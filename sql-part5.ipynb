{
    "metadata": {
        "kernelspec": {
            "name": "SQL",
            "display_name": "SQL",
            "language": "sql"
        },
        "language_info": {
            "name": "sql",
            "version": ""
        }
    },
    "nbformat_minor": 2,
    "nbformat": 4,
    "cells": [
        {
            "cell_type": "markdown",
            "source": [
                "# Exercises: Creating, Updating, and Destroying Objects\n",
                "\n",
                "For the exercises, you will be working with objects and data you create. Before opening this notebook, make sure that you have set up the new connection to the server and that you have located the database and your schema.\n",
                "\n",
                "## Object Creation\n",
                "\n",
                "Before coding, think of three things you want to make. These could be coding projects, new recipes, or planned projects for a woodworking hobby. Brainstorm the appropriate column names and data types as well.\n",
                "\n",
                "Create a table under your schema called `planned_makes`."
            ],
            "metadata": {
                "azdata_cell_guid": "9d51c166-0c19-4f27-a422-2a6cf596bfb2"
            },
            "attachments": {}
        },
        {
            "cell_type": "code",
            "source": [
                "CREATE TABLE JunkDB_STL_May2023.venkata.planned_makes\r\n",
                "(Sequence_num  varchar(10) PRIMARY KEY,\r\n",
                "name varchar(50),\r\n",
                "description varchar(50),\r\n",
                "recipe varchar(5000));"
            ],
            "metadata": {
                "azdata_cell_guid": "d9238911-6f81-4f01-980d-b584307effaf",
                "language": "sql",
                "tags": []
            },
            "outputs": [
                {
                    "output_type": "error",
                    "evalue": "Msg 2714, Level 16, State 6, Line 1\r\nThere is already an object named 'planned_makes' in the database.",
                    "ename": "",
                    "traceback": []
                },
                {
                    "output_type": "display_data",
                    "data": {
                        "text/html": "Total execution time: 00:00:00.042"
                    },
                    "metadata": {}
                }
            ],
            "execution_count": 12
        },
        {
            "cell_type": "markdown",
            "source": [
                "Add three rows to your table that are your planned makes."
            ],
            "metadata": {
                "azdata_cell_guid": "83cdf34d-8c4f-4fa1-a14e-77384b19d734"
            }
        },
        {
            "cell_type": "code",
            "source": [
                "insert into JunkDB_STL_May2023.venkata.planned_makes\r\n",
                "values ('1','Chicken','Chicken Curry','Chicken Biryani');\r\n",
                "\r\n",
                "insert into JunkDB_STL_May2023.venkata.planned_makes\r\n",
                "values ('2','Goat','Goat Curry','Goat Biryani');\r\n",
                "\r\n",
                "insert into JunkDB_STL_May2023.venkata.planned_makes\r\n",
                "values ('3','Shrimp','Shrimp Curry','Shrimp Biryani');\r\n",
                "\r\n",
                "insert into JunkDB_STL_May2023.venkata.planned_makes\r\n",
                "values ('4','Fish','Fish Curry','Fish Biryani');\r\n",
                "\r\n",
                "--Select *  from JunkDB_STL_May2023.venkata.planned_makes;\r\n",
                ""
            ],
            "metadata": {
                "azdata_cell_guid": "e7cff9cb-87ba-4c7b-98f2-eaf445e8719c",
                "language": "sql",
                "tags": []
            },
            "outputs": [
                {
                    "output_type": "display_data",
                    "data": {
                        "text/html": "(4 rows affected)"
                    },
                    "metadata": {}
                },
                {
                    "output_type": "display_data",
                    "data": {
                        "text/html": "Total execution time: 00:00:00.055"
                    },
                    "metadata": {}
                },
                {
                    "output_type": "execute_result",
                    "metadata": {},
                    "execution_count": 20,
                    "data": {
                        "application/vnd.dataresource+json": {
                            "schema": {
                                "fields": [
                                    {
                                        "name": "Sequence_num"
                                    },
                                    {
                                        "name": "name"
                                    },
                                    {
                                        "name": "description"
                                    },
                                    {
                                        "name": "recipe"
                                    }
                                ]
                            },
                            "data": [
                                {
                                    "Sequence_num": "1",
                                    "name": "Chicken",
                                    "description": "Chicken Curry",
                                    "recipe": "Chicken Biryani"
                                },
                                {
                                    "Sequence_num": "2",
                                    "name": "Goat",
                                    "description": "Goat Curry",
                                    "recipe": "Goat Biryani"
                                },
                                {
                                    "Sequence_num": "3",
                                    "name": "Shrimp",
                                    "description": "Shrimp Curry",
                                    "recipe": "Shrimp Biryani"
                                },
                                {
                                    "Sequence_num": "4",
                                    "name": "Fish",
                                    "description": "Fish Curry",
                                    "recipe": "Fish Biryani"
                                }
                            ]
                        },
                        "text/html": [
                            "<table>",
                            "<tr><th>Sequence_num</th><th>name</th><th>description</th><th>recipe</th></tr>",
                            "<tr><td>1</td><td>Chicken</td><td>Chicken Curry</td><td>Chicken Biryani</td></tr>",
                            "<tr><td>2</td><td>Goat</td><td>Goat Curry</td><td>Goat Biryani</td></tr>",
                            "<tr><td>3</td><td>Shrimp</td><td>Shrimp Curry</td><td>Shrimp Biryani</td></tr>",
                            "<tr><td>4</td><td>Fish</td><td>Fish Curry</td><td>Fish Biryani</td></tr>",
                            "</table>"
                        ]
                    }
                }
            ],
            "execution_count": 20
        },
        {
            "cell_type": "markdown",
            "source": [
                "## Update a Row\n",
                "\n",
                "Change different values in one of your three rows."
            ],
            "metadata": {
                "azdata_cell_guid": "4a39b8d4-ae97-4e09-8336-c5fc6a00d76c"
            },
            "attachments": {}
        },
        {
            "cell_type": "code",
            "source": [
                "UPDATE  JunkDB_STL_May2023.venkata.planned_makes\r\n",
                "SET name = 'mutton', description= 'mutton curry', recipe = 'mutton biryani' WHERE name = 'mutton';\r\n",
                "\r\n",
                "Select *  from JunkDB_STL_May2023.venkata.planned_makes;\r\n",
                ""
            ],
            "metadata": {
                "azdata_cell_guid": "7409c695-9581-4ad8-b03a-574d2c4c87cb",
                "language": "sql",
                "tags": []
            },
            "outputs": [
                {
                    "output_type": "display_data",
                    "data": {
                        "text/html": "(1 row affected)"
                    },
                    "metadata": {}
                },
                {
                    "output_type": "display_data",
                    "data": {
                        "text/html": "(4 rows affected)"
                    },
                    "metadata": {}
                },
                {
                    "output_type": "display_data",
                    "data": {
                        "text/html": "Total execution time: 00:00:00.057"
                    },
                    "metadata": {}
                },
                {
                    "output_type": "execute_result",
                    "metadata": {},
                    "execution_count": 26,
                    "data": {
                        "application/vnd.dataresource+json": {
                            "schema": {
                                "fields": [
                                    {
                                        "name": "Sequence_num"
                                    },
                                    {
                                        "name": "name"
                                    },
                                    {
                                        "name": "description"
                                    },
                                    {
                                        "name": "recipe"
                                    }
                                ]
                            },
                            "data": [
                                {
                                    "Sequence_num": "1",
                                    "name": "Chicken",
                                    "description": "Chicken Curry",
                                    "recipe": "Chicken Biryani"
                                },
                                {
                                    "Sequence_num": "2",
                                    "name": "Goat",
                                    "description": "Goat Curry",
                                    "recipe": "Goat Biryani"
                                },
                                {
                                    "Sequence_num": "3",
                                    "name": "Shrimp",
                                    "description": "Shrimp Curry",
                                    "recipe": "Shrimp Biryani"
                                },
                                {
                                    "Sequence_num": "4",
                                    "name": "mutton",
                                    "description": "mutton curry",
                                    "recipe": "mutton biryani"
                                }
                            ]
                        },
                        "text/html": [
                            "<table>",
                            "<tr><th>Sequence_num</th><th>name</th><th>description</th><th>recipe</th></tr>",
                            "<tr><td>1</td><td>Chicken</td><td>Chicken Curry</td><td>Chicken Biryani</td></tr>",
                            "<tr><td>2</td><td>Goat</td><td>Goat Curry</td><td>Goat Biryani</td></tr>",
                            "<tr><td>3</td><td>Shrimp</td><td>Shrimp Curry</td><td>Shrimp Biryani</td></tr>",
                            "<tr><td>4</td><td>mutton</td><td>mutton curry</td><td>mutton biryani</td></tr>",
                            "</table>"
                        ]
                    }
                }
            ],
            "execution_count": 26
        },
        {
            "cell_type": "markdown",
            "source": [
                "## Delete a Row\n",
                "\n",
                "Delete one of the rows from your table."
            ],
            "metadata": {
                "azdata_cell_guid": "95e91a6e-9038-42d9-9401-5738842aba17"
            }
        },
        {
            "cell_type": "code",
            "source": [
                "DELETE from JunkDB_STL_May2023.venkata.planned_makes\r\n",
                "WHERE name = 'shrimp'; \r\n",
                "\r\n",
                "Select *  from JunkDB_STL_May2023.venkata.planned_makes;\r\n",
                ""
            ],
            "metadata": {
                "azdata_cell_guid": "749c748f-19b5-4c69-9004-b6b20216616a",
                "language": "sql"
            },
            "outputs": [
                {
                    "output_type": "error",
                    "evalue": "Msg 208, Level 16, State 1, Line 1\r\nInvalid object name 'JunkDB_STL_May2023.venkata.planned_makes'.",
                    "ename": "",
                    "traceback": []
                },
                {
                    "output_type": "display_data",
                    "data": {
                        "text/html": "Total execution time: 00:00:00.046"
                    },
                    "metadata": {}
                }
            ],
            "execution_count": 30
        },
        {
            "cell_type": "markdown",
            "source": [
                "## Drop the Table\n",
                "\n",
                "While this has been fun, it is time to drop the table!"
            ],
            "metadata": {
                "azdata_cell_guid": "2239cb09-137b-4579-905b-1aa020793181"
            },
            "attachments": {}
        },
        {
            "cell_type": "code",
            "source": [
                "DROP table JunkDB_STL_May2023.venkata.planned_makes;\r\n",
                ""
            ],
            "metadata": {
                "azdata_cell_guid": "b3c7f6ea-ee26-46b3-9c2a-2f7a82c39699",
                "language": "sql"
            },
            "outputs": [
                {
                    "output_type": "error",
                    "evalue": "Msg 3701, Level 11, State 5, Line 1\r\nCannot drop the table 'JunkDB_STL_May2023.venkata.planned_makes', because it does not exist or you do not have permission.",
                    "ename": "",
                    "traceback": []
                },
                {
                    "output_type": "display_data",
                    "data": {
                        "text/html": "Total execution time: 00:00:00.044"
                    },
                    "metadata": {}
                }
            ],
            "execution_count": 32
        }
    ]
}